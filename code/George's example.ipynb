{
 "cells": [
  {
   "cell_type": "markdown",
   "metadata": {},
   "source": [
    "# George Turcas's example of Serre-Faltings"
   ]
  },
  {
   "cell_type": "markdown",
   "metadata": {},
   "source": [
    "### Define the base field:"
   ]
  },
  {
   "cell_type": "code",
   "execution_count": 1,
   "metadata": {},
   "outputs": [],
   "source": [
    "K.<i> = QuadraticField(-1)"
   ]
  },
  {
   "cell_type": "markdown",
   "metadata": {},
   "source": [
    "### Define the elliptic curve, find its conductor and set of bad primes:"
   ]
  },
  {
   "cell_type": "code",
   "execution_count": 2,
   "metadata": {},
   "outputs": [
    {
     "name": "stdout",
     "output_type": "stream",
     "text": [
      "Elliptic Curve defined by y^2 + (i+1)*x*y + (i+1)*y = x^3 + (i-1)*x^2 + (-5*i)*x + 2*i over Number Field in i with defining polynomial x^2 + 1 with i = 1*I\n",
      "Bad primes: [Fractional ideal (i + 1), Fractional ideal (-5*i - 4)]\n"
     ]
    }
   ],
   "source": [
    "E = EllipticCurve([i+1,i-1,i+1,-5*i,2*i])\n",
    "NE = E.conductor()\n",
    "S = NE.prime_factors()\n",
    "print(E)\n",
    "print(\"Bad primes: {}\".format(S))"
   ]
  },
  {
   "cell_type": "code",
   "execution_count": 3,
   "metadata": {},
   "outputs": [],
   "source": [
    "%runfile C2C3S3.py\n",
    "%runfile T0T1T2.py"
   ]
  },
  {
   "cell_type": "markdown",
   "metadata": {},
   "source": [
    "## Step 1\n",
    "### Find a set of primes $T_0$ such that the mod 2 representation is reducible if and only if the $a_P$ for $P\\in T_0$ are all even:"
   ]
  },
  {
   "cell_type": "code",
   "execution_count": 4,
   "metadata": {},
   "outputs": [
    {
     "data": {
      "text/plain": [
       "([], [], [])"
      ]
     },
     "execution_count": 4,
     "metadata": {},
     "output_type": "execute_result"
    }
   ],
   "source": [
    "get_T0(K,S)"
   ]
  },
  {
   "cell_type": "markdown",
   "metadata": {},
   "source": [
    "### $T_0=\\emptyset$!  That is because $K$ has no $C_3$ or $S_3$ extensions unramified outside $S$, so every elliptic curve over $K$ with these bad primes must have $2$-torsion:"
   ]
  },
  {
   "cell_type": "code",
   "execution_count": 5,
   "metadata": {},
   "outputs": [
    {
     "data": {
      "text/plain": [
       "[]"
      ]
     },
     "execution_count": 5,
     "metadata": {},
     "output_type": "execute_result"
    }
   ],
   "source": [
    "C3S3_extensions(K,S)"
   ]
  },
  {
   "cell_type": "markdown",
   "metadata": {},
   "source": [
    "## Step 2\n",
    "### Next we determine a set ofprimes $T_2$ for testing whether we have a large isogeny class (containing a curve with full $2$-torsion, with trivial mod 2 representation) or a small class.  Of course we know that the class is large since $E$ has full $2$-torsion:"
   ]
  },
  {
   "cell_type": "code",
   "execution_count": 6,
   "metadata": {},
   "outputs": [
    {
     "data": {
      "text/plain": [
       "2"
      ]
     },
     "execution_count": 6,
     "metadata": {},
     "output_type": "execute_result"
    }
   ],
   "source": [
    "E.two_torsion_rank()"
   ]
  },
  {
   "cell_type": "markdown",
   "metadata": {},
   "source": [
    "### Find $T_2$:"
   ]
  },
  {
   "cell_type": "code",
   "execution_count": 7,
   "metadata": {},
   "outputs": [
    {
     "data": {
      "text/plain": [
       "dict_values([Fractional ideal (2*i + 1), Fractional ideal (-3*i - 2), Fractional ideal (i + 4), Fractional ideal (i - 4), Fractional ideal (2*i + 5), Fractional ideal (-8*i - 7)])"
      ]
     },
     "execution_count": 7,
     "metadata": {},
     "output_type": "execute_result"
    }
   ],
   "source": [
    "T2_data = get_T2(K,S)\n",
    "T2 = T2_data.values()\n",
    "T2"
   ]
  },
  {
   "cell_type": "markdown",
   "metadata": {},
   "source": [
    "### According to Theorem 5.7 of [Cremona-Argaez], the class is large if and only if $F_P(1)\\equiv 0\\pmod{4}$ for all $P\\in T_2$, where $F_P$ is the Frobenius polynomial at $P$, so $F_P(1) = 1-a_P+N(P)$.  This is implemented as follows, where $t_1(P)=(1-a_P+N(P))/2\\pmod2$:"
   ]
  },
  {
   "cell_type": "code",
   "execution_count": 8,
   "metadata": {},
   "outputs": [
    {
     "data": {
      "text/plain": [
       "[0, 0, 0, 0, 0, 0]"
      ]
     },
     "execution_count": 8,
     "metadata": {},
     "output_type": "execute_result"
    }
   ],
   "source": [
    "BB = BlackBox_from_elliptic_curve(E)\n",
    "t1 = BB_t1(BB)\n",
    "[t1(P) for P in T2]"
   ]
  },
  {
   "cell_type": "markdown",
   "metadata": {},
   "source": [
    "### Since all are $0$, the class is indeed large."
   ]
  },
  {
   "cell_type": "markdown",
   "metadata": {},
   "source": [
    "### In more detail: the last number on each line should be a multiple of $4$:"
   ]
  },
  {
   "cell_type": "code",
   "execution_count": 9,
   "metadata": {},
   "outputs": [
    {
     "data": {
      "text/plain": [
       "[(Fractional ideal (2*i + 1), 5, -2, 8),\n",
       " (Fractional ideal (-3*i - 2), 13, 6, 8),\n",
       " (Fractional ideal (i + 4), 17, 2, 16),\n",
       " (Fractional ideal (i - 4), 17, 6, 12),\n",
       " (Fractional ideal (2*i + 5), 29, 10, 20),\n",
       " (Fractional ideal (-8*i - 7), 113, -14, 128)]"
      ]
     },
     "execution_count": 9,
     "metadata": {},
     "output_type": "execute_result"
    }
   ],
   "source": [
    "norms = [P.norm() for P in T2]\n",
    "traces = [E.reduction(P).trace_of_frobenius() for P in T2]\n",
    "[(P, nP, aP, 1-aP+nP) for P,aP,nP in zip(T2,traces,norms)]"
   ]
  },
  {
   "cell_type": "markdown",
   "metadata": {},
   "source": [
    "### Note that we appear to be cheating here since we have obtained the traces from the elliptic curve, not from the Bianchi form.  So we should check that for all the primes $P\\in T_0\\cup T_2$ the eigenvalue of $T_P$ on the Bianchi form is indeed equal to $a_P(E)$."
   ]
  },
  {
   "cell_type": "markdown",
   "metadata": {},
   "source": [
    "## Step 3\n",
    "### To apply Livne's method we need a cubically independent set of primes for the space of quadratic extensions of $K$ supported on $S$.  Since $K(S,2)=\\left<i,1+i,4+5i\\right>$ there are $7$ of these.  Since the dimension is only $3$, in this case Livne is no better than the original Faltings--Serre which would require testing $8$ primes $P$ exhibiting all possible splitting behavious in these $7$ extensions. "
   ]
  },
  {
   "cell_type": "code",
   "execution_count": 10,
   "metadata": {},
   "outputs": [
    {
     "name": "stdout",
     "output_type": "stream",
     "text": [
      "adding P=Fractional ideal (-i - 2) with vector [1, 0, 0]\n",
      "adding P=Fractional ideal (2*i + 1) with vector [1, 1, 0]\n",
      "adding P=Fractional ideal (-3*i - 2) with vector [1, 0, 1]\n",
      "adding P=Fractional ideal (i + 4) with vector [0, 1, 0]\n",
      "adding P=Fractional ideal (i - 4) with vector [0, 1, 1]\n",
      "adding P=Fractional ideal (-2*i + 5) with vector [1, 1, 1]\n",
      "adding P=Fractional ideal (4*i + 5) with vector [0, 0, 0]\n",
      "adding P=Fractional ideal (-8*i - 7) with vector [0, 0, 1]\n"
     ]
    },
    {
     "data": {
      "text/plain": [
       "[-i - 2, 2*i + 1, -3*i - 2, i + 4, i - 4, -2*i + 5, 4*i + 5, -8*i - 7]"
      ]
     },
     "execution_count": 10,
     "metadata": {},
     "output_type": "execute_result"
    }
   ],
   "source": [
    "vecs = []\n",
    "plist = []\n",
    "basis = [i,1+i,4+5*i]\n",
    "np = 2**len(basis)\n",
    "xK = polygen(K)\n",
    "primes = primes_iter(K,1)\n",
    "while len(plist)<np:\n",
    "    P = next(primes)\n",
    "    if P in S:\n",
    "        continue\n",
    "    vec = [lam(xK^2-d,P) for d in basis]\n",
    "    if not vec in vecs:\n",
    "        vecs.append(vec)\n",
    "        plist.append(P)\n",
    "        print(\"adding P={} with vector {}\".format(P,vec))\n",
    "       \n",
    "[P.gens_reduced()[0] for P in plist]          "
   ]
  },
  {
   "cell_type": "code",
   "execution_count": null,
   "metadata": {},
   "outputs": [],
   "source": []
  }
 ],
 "metadata": {
  "kernelspec": {
   "display_name": "SageMath 9.4",
   "language": "sage",
   "name": "sagemath"
  },
  "language_info": {
   "codemirror_mode": {
    "name": "ipython",
    "version": 3
   },
   "file_extension": ".py",
   "mimetype": "text/x-python",
   "name": "python",
   "nbconvert_exporter": "python",
   "pygments_lexer": "ipython3",
   "version": "3.8.10"
  }
 },
 "nbformat": 4,
 "nbformat_minor": 2
}
