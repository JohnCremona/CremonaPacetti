{
 "cells": [
  {
   "cell_type": "markdown",
   "metadata": {},
   "source": [
    "# Serre-Faltings example"
   ]
  },
  {
   "cell_type": "markdown",
   "metadata": {},
   "source": [
    "This example is the one which takes up most of the paper \"On rational Bianchi newforms and abelian surfaces with\n",
    "  quaternionic multiplication\" by Cremona, Demb\\'el\\'e, Pacetti, Schembri and Voight."
   ]
  },
  {
   "cell_type": "markdown",
   "metadata": {},
   "source": [
    "### Define the base field:"
   ]
  },
  {
   "cell_type": "code",
   "execution_count": 1,
   "metadata": {},
   "outputs": [
    {
     "data": {
      "text/plain": [
       "-7"
      ]
     },
     "execution_count": 1,
     "metadata": {},
     "output_type": "execute_result"
    }
   ],
   "source": [
    "K.<a> = NumberField(x^2-x+2)\n",
    "K.discriminant()"
   ]
  },
  {
   "cell_type": "code",
   "execution_count": 2,
   "metadata": {},
   "outputs": [],
   "source": [
    "%runfile C2C3S3.py\n",
    "%runfile T0T1T2.py"
   ]
  },
  {
   "cell_type": "markdown",
   "metadata": {},
   "source": [
    "Define the set of bad primes of $K$, including the primes dividing 2:"
   ]
  },
  {
   "cell_type": "code",
   "execution_count": 3,
   "metadata": {},
   "outputs": [
    {
     "data": {
      "text/plain": [
       "[(Fractional ideal (a), 2),\n",
       " (Fractional ideal (-a + 1), 2),\n",
       " (Fractional ideal (5), 25),\n",
       " (Fractional ideal (-2*a + 1), 7)]"
      ]
     },
     "execution_count": 3,
     "metadata": {},
     "output_type": "execute_result"
    }
   ],
   "source": [
    "S = K.ideal(2*5*7).prime_factors()\n",
    "[(P,P.norm()) for P in S]"
   ]
  },
  {
   "cell_type": "markdown",
   "metadata": {},
   "source": [
    "## Step 1\n",
    "### Find a set of primes $T_0$ such that the mod 2 representation is reducible if and only if the $a_P$ for $P\\in T_0$ are all even, together with a set of cubics defining all $C_3$ and $S_3$ extensions of $K$ unramified outside $S$.\n",
    "NB This takes time...used to be about 11m, now is over an hour (I do not yet know why)"
   ]
  },
  {
   "cell_type": "code",
   "execution_count": 4,
   "metadata": {},
   "outputs": [
    {
     "name": "stdout",
     "output_type": "stream",
     "text": [
      "CPU times: user 1h 4min 56s, sys: 636 ms, total: 1h 4min 57s\n",
      "Wall time: 1h 4min 56s\n"
     ]
    }
   ],
   "source": [
    "%time flist = C3S3_extensions(K, K.ideal(2*5*7).prime_factors())"
   ]
  },
  {
   "cell_type": "code",
   "execution_count": 5,
   "metadata": {},
   "outputs": [
    {
     "name": "stdout",
     "output_type": "stream",
     "text": [
      "CPU times: user 549 ms, sys: 4 ms, total: 553 ms\n",
      "Wall time: 551 ms\n"
     ]
    }
   ],
   "source": [
    "%time cubics, T0, vlist = get_T0(K,S,flist)"
   ]
  },
  {
   "cell_type": "markdown",
   "metadata": {},
   "source": [
    "The cubics are"
   ]
  },
  {
   "cell_type": "code",
   "execution_count": 6,
   "metadata": {},
   "outputs": [
    {
     "data": {
      "text/plain": [
       "[x^3 + (-a - 1)*x^2 + (a - 2)*x + 1,\n",
       " x^3 - 2*a*x^2 + (-2*a - 1)*x - a - 2,\n",
       " x^3 + (2*a - 2)*x^2 + (2*a - 3)*x + a - 3,\n",
       " x^3 - a*x^2 + (a - 1)*x + 1,\n",
       " x^3 - a*x^2 + (a - 2)*x + a,\n",
       " x^3 + (-a - 1)*x^2 + (4*a - 3)*x - a + 3,\n",
       " x^3 - a*x^2 + (-3*a + 1)*x + 8*a - 24,\n",
       " x^3 + (-3*a + 1)*x^2 + (a - 4)*x - 2,\n",
       " x^3 + (-2*a + 1)*x^2 + (5*a - 6)*x - 5*a + 6]"
      ]
     },
     "execution_count": 6,
     "metadata": {},
     "output_type": "execute_result"
    }
   ],
   "source": [
    "cubics"
   ]
  },
  {
   "cell_type": "markdown",
   "metadata": {},
   "source": [
    "The first 4 are $C_3$ and the last 5 are $S_3$"
   ]
  },
  {
   "cell_type": "code",
   "execution_count": 7,
   "metadata": {},
   "outputs": [
    {
     "data": {
      "text/plain": [
       "['C3', 'C3', 'C3', 'C3', 'S3', 'S3', 'S3', 'S3', 'S3']"
      ]
     },
     "execution_count": 7,
     "metadata": {},
     "output_type": "execute_result"
    }
   ],
   "source": [
    "[\"C3\" if c.discriminant().is_square() else \"S3\" for c in cubics]"
   ]
  },
  {
   "cell_type": "markdown",
   "metadata": {},
   "source": [
    "The test primes are"
   ]
  },
  {
   "cell_type": "code",
   "execution_count": 8,
   "metadata": {},
   "outputs": [
    {
     "data": {
      "text/plain": [
       "[(Fractional ideal (-2*a + 3), 11),\n",
       " (Fractional ideal (2*a + 1), 11),\n",
       " (Fractional ideal (-2*a + 5), 23),\n",
       " (Fractional ideal (-4*a + 1), 29),\n",
       " (Fractional ideal (-6*a + 1), 67)]"
      ]
     },
     "execution_count": 8,
     "metadata": {},
     "output_type": "execute_result"
    }
   ],
   "source": [
    "[(P,P.norm()) for P in T0]"
   ]
  },
  {
   "cell_type": "markdown",
   "metadata": {},
   "source": [
    "So we need to know the parity of $a_P$ for these primes $P$ and match with one (unique) row of vlist, and that will tell us which cubic is ours."
   ]
  },
  {
   "cell_type": "markdown",
   "metadata": {},
   "source": [
    "We extract the Hecke eigenvalues manually from http://www.lmfdb.org/ModularForm/GL2/ImaginaryQuadratic/2.0.7.1/30625.1/e/"
   ]
  },
  {
   "cell_type": "code",
   "execution_count": 9,
   "metadata": {},
   "outputs": [],
   "source": [
    "aPdata = {}\n",
    "aPdata[K.ideal(3-2*a)] = 4\n",
    "aPdata[K.ideal(1+2*a)] = 4\n",
    "aPdata[K.ideal(5-2*a)] = -7\n",
    "aPdata[K.ideal(1-4*a)] = 1\n",
    "aPdata[K.ideal(1-6*a)] = 9\n",
    "assert all([P in aPdata for P in T0])"
   ]
  },
  {
   "cell_type": "markdown",
   "metadata": {},
   "source": [
    "Compute the test vector, check that it matches exactly one of the vectors in vlist, and return the associated cubic"
   ]
  },
  {
   "cell_type": "code",
   "execution_count": 10,
   "metadata": {},
   "outputs": [
    {
     "name": "stdout",
     "output_type": "stream",
     "text": [
      "Residual representation is irreducible, image is C3, kernel polynomial x^3 + (-a - 1)*x^2 + (4*a - 3)*x - a + 3\n"
     ]
    }
   ],
   "source": [
    "test_vector = [aPdata[P]%2 for P in T0]\n",
    "assert test_vector in vlist\n",
    "assert len([v for v in vlist if v==test_vector])==1\n",
    "cubic = next(cubic for cubic,vec in zip(cubics,vlist) if test_vector==vec)\n",
    "Gtype = \"C3\" if cubic.discriminant().is_square else \"S3\"\n",
    "print(\"Residual representation is irreducible, image is {}, kernel polynomial {}\".format(Gtype,cubic))"
   ]
  },
  {
   "cell_type": "markdown",
   "metadata": {},
   "source": [
    "Make the polynomial absolute, optimise and factor over $K$ to get a nicer polynomial:"
   ]
  },
  {
   "cell_type": "code",
   "execution_count": 11,
   "metadata": {},
   "outputs": [
    {
     "data": {
      "text/plain": [
       "x^6 - 3*x^5 + 2*x^4 - 6*x^3 + 25*x^2 - 19*x + 8"
      ]
     },
     "execution_count": 11,
     "metadata": {},
     "output_type": "execute_result"
    }
   ],
   "source": [
    "sextic = K.extension(cubic,'b').absolute_field('b').optimized_representation()[0].defining_polynomial()\n",
    "sextic"
   ]
  },
  {
   "cell_type": "code",
   "execution_count": 12,
   "metadata": {},
   "outputs": [
    {
     "data": {
      "text/plain": [
       "x^3 + (-a - 1)*x^2 + (4*a - 3)*x - a + 3"
      ]
     },
     "execution_count": 12,
     "metadata": {},
     "output_type": "execute_result"
    }
   ],
   "source": [
    "cubic = sextic.change_ring(K).factor()[0][0]\n",
    "cubic"
   ]
  },
  {
   "cell_type": "markdown",
   "metadata": {},
   "source": [
    "## Step 2\n",
    "### Apply Faltings-Serre for $S_3$ residual image:"
   ]
  },
  {
   "cell_type": "code",
   "execution_count": 13,
   "metadata": {},
   "outputs": [],
   "source": [
    "%runfile SerreFaltings.py"
   ]
  },
  {
   "cell_type": "code",
   "execution_count": 14,
   "metadata": {},
   "outputs": [
    {
     "data": {
      "text/plain": [
       "[Fractional ideal (-2*a + 3),\n",
       " Fractional ideal (-4*a + 1),\n",
       " Fractional ideal (4*a - 7),\n",
       " Fractional ideal (3),\n",
       " Fractional ideal (2*a + 3),\n",
       " Fractional ideal (2*a + 1),\n",
       " Fractional ideal (-4*a - 3),\n",
       " Fractional ideal (-2*a + 5),\n",
       " Fractional ideal (-4*a + 5)]"
      ]
     },
     "execution_count": 14,
     "metadata": {},
     "output_type": "execute_result"
    }
   ],
   "source": [
    "PP2 = S3primes(K,S,cubic)\n",
    "PP2"
   ]
  },
  {
   "cell_type": "markdown",
   "metadata": {},
   "source": [
    "We do not yet have a_P for some of these:"
   ]
  },
  {
   "cell_type": "code",
   "execution_count": 15,
   "metadata": {},
   "outputs": [
    {
     "data": {
      "text/plain": [
       "[(Fractional ideal (4*a - 7), 53),\n",
       " (Fractional ideal (3), 9),\n",
       " (Fractional ideal (2*a + 3), 23),\n",
       " (Fractional ideal (-4*a - 3), 53),\n",
       " (Fractional ideal (-4*a + 5), 37)]"
      ]
     },
     "execution_count": 15,
     "metadata": {},
     "output_type": "execute_result"
    }
   ],
   "source": [
    "[(P,P.norm()) for P in PP2 if not P in aPdata]"
   ]
  },
  {
   "cell_type": "markdown",
   "metadata": {},
   "source": [
    "So we go back to the Bianchi form for them:"
   ]
  },
  {
   "cell_type": "code",
   "execution_count": 16,
   "metadata": {},
   "outputs": [],
   "source": [
    "aPdata[K.ideal(4*a-7)] = 2\n",
    "aPdata[K.ideal(3)] = 3\n",
    "aPdata[K.ideal(2*a+3)] = 7\n",
    "aPdata[K.ideal(4*a+3)] = -2\n",
    "aPdata[K.ideal(4*a-5)] = 4\n",
    "assert all([P in aPdata for P in PP2])"
   ]
  },
  {
   "cell_type": "code",
   "execution_count": null,
   "metadata": {},
   "outputs": [],
   "source": []
  }
 ],
 "metadata": {
  "kernelspec": {
   "display_name": "SageMath 9.3",
   "language": "sage",
   "name": "sagemath"
  },
  "language_info": {
   "codemirror_mode": {
    "name": "ipython",
    "version": 3
   },
   "file_extension": ".py",
   "mimetype": "text/x-python",
   "name": "python",
   "nbconvert_exporter": "python",
   "pygments_lexer": "ipython3",
   "version": "3.8.10"
  }
 },
 "nbformat": 4,
 "nbformat_minor": 2
}
