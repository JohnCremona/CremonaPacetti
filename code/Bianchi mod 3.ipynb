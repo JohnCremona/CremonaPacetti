{
 "cells": [
  {
   "cell_type": "markdown",
   "metadata": {},
   "source": [
    "# Example of mod 3 Galois representations over an imaginary quadratic field"
   ]
  },
  {
   "cell_type": "markdown",
   "metadata": {},
   "source": [
    "## This is an example where the mod 2 representation is reducible and a $3$-adic method should work better than $2$-adic Faltings-Serre-Livne"
   ]
  },
  {
   "cell_type": "markdown",
   "metadata": {},
   "source": [
    "### Define the number field:"
   ]
  },
  {
   "cell_type": "code",
   "execution_count": 3,
   "metadata": {},
   "outputs": [],
   "source": [
    "x = polygen(QQ)\n",
    "K.<i> = NumberField(x^2+1)"
   ]
  },
  {
   "cell_type": "markdown",
   "metadata": {},
   "source": [
    "### Define the elliptic curve and related quantities.  This curve has LMFDB label [2.0.4.1-1312.1-b4](http://www.lmfdb.org/EllipticCurve/2.0.4.1/1312.1/b/4)"
   ]
  },
  {
   "cell_type": "code",
   "execution_count": 10,
   "metadata": {},
   "outputs": [
    {
     "data": {
      "text/html": [
       "<html><script type=\"math/tex; mode=display\">\\newcommand{\\Bold}[1]{\\mathbf{#1}}y^2 + \\left(i + 1\\right) x y + \\left(i + 1\\right) y = x^{3} + \\left(i - 1\\right) x^{2} - 5 i x + 2 i </script></html>"
      ],
      "text/plain": [
       "Elliptic Curve defined by y^2 + (i+1)*x*y + (i+1)*y = x^3 + (i-1)*x^2 + (-5*i)*x + 2*i over Number Field in i with defining polynomial x^2 + 1"
      ]
     },
     "metadata": {},
     "output_type": "display_data"
    },
    {
     "data": {
      "text/html": [
       "<html><script type=\"math/tex; mode=display\">\\newcommand{\\Bold}[1]{\\mathbf{#1}}\\left[\\left(i + 1\\right), \\left(-5 i - 4\\right)\\right]</script></html>"
      ],
      "text/plain": [
       "[Fractional ideal (i + 1), Fractional ideal (-5*i - 4)]"
      ]
     },
     "metadata": {},
     "output_type": "display_data"
    },
    {
     "data": {
      "text/html": [
       "<html><script type=\"math/tex; mode=display\">\\newcommand{\\Bold}[1]{\\mathbf{#1}}\\left[\\left(i + 1\\right), \\left(-5 i - 4\\right), \\left(3\\right)\\right]</script></html>"
      ],
      "text/plain": [
       "[Fractional ideal (i + 1), Fractional ideal (-5*i - 4), Fractional ideal (3)]"
      ]
     },
     "metadata": {},
     "output_type": "display_data"
    },
    {
     "data": {
      "text/html": [
       "<html><script type=\"math/tex; mode=display\">\\newcommand{\\Bold}[1]{\\mathbf{#1}}3 x^{4} + \\left(6 i - 4\\right) x^{3} - 24 i x^{2} + 30 i x - 10 i + 1</script></html>"
      ],
      "text/plain": [
       "3*x^4 + (6*i - 4)*x^3 - 24*i*x^2 + 30*i*x - 10*i + 1"
      ]
     },
     "metadata": {},
     "output_type": "display_data"
    }
   ],
   "source": [
    "E = EllipticCurve([i + 1, i - 1, i + 1, -5*i, 2*i])\n",
    "show(E)\n",
    "S = E.conductor().prime_factors()\n",
    "show(S)\n",
    "S3 = S + K.primes_above(3)\n",
    "show(S3)\n",
    "f3 = E.division_polynomial(3)\n",
    "show(f3)"
   ]
  },
  {
   "cell_type": "markdown",
   "metadata": {},
   "source": [
    "### Read in the files of code"
   ]
  },
  {
   "cell_type": "code",
   "execution_count": 11,
   "metadata": {},
   "outputs": [],
   "source": [
    "%runfile C2C3S3.py\n",
    "%runfile S4.py\n",
    "%runfile T0mod3.py"
   ]
  },
  {
   "cell_type": "markdown",
   "metadata": {},
   "source": [
    "### Define the quadratic extension of K cut out by the determinant character: we are assuming that this is the $3$rd cyclotomic character:"
   ]
  },
  {
   "cell_type": "code",
   "execution_count": 13,
   "metadata": {},
   "outputs": [],
   "source": [
    "xK = polygen(K)\n",
    "M = K.extension(xK**2+3, 'r3')"
   ]
  },
  {
   "cell_type": "markdown",
   "metadata": {},
   "source": [
    "### Find the irreducible quartics defining extensions of $K$ unramified outside $S3$ and containing $M$. Instead of finding a single list we find 3 lists, one for each Galois group, so that we'll know later which group we have:"
   ]
  },
  {
   "cell_type": "code",
   "execution_count": 25,
   "metadata": {},
   "outputs": [
    {
     "name": "stdout",
     "output_type": "stream",
     "text": [
      "There are 87 candidate quartics, of which 79 are S4, 0 are D4 and 8 are C4\n"
     ]
    }
   ],
   "source": [
    "S4quartics = S4_extensions_with_quadratic(K,S3,M)\n",
    "D4quartics = D4_extensions_with_quadratic(K,S3,M)\n",
    "C4quartics = C4_extensions_with_quadratic(K,S3,M)\n",
    "quartics = S4quartics+D4quartics+C4quartics\n",
    "print(\"There are {} candidate quartics, of which {} are S4, {} are D4 and {} are C4\".format(len(quartics),len(S4quartics), len(D4quartics),len(C4quartics)))"
   ]
  },
  {
   "cell_type": "markdown",
   "metadata": {},
   "source": [
    "### Compute $T_0$ and the associated $0-1$ vectors:"
   ]
  },
  {
   "cell_type": "code",
   "execution_count": 26,
   "metadata": {},
   "outputs": [
    {
     "name": "stdout",
     "output_type": "stream",
     "text": [
      "The test primes are\n",
      "P=Fractional ideal (4*i + 9) with norm 97\n",
      "P=Fractional ideal (-8*i - 7) with norm 113\n",
      "P=Fractional ideal (7*i + 8) with norm 113\n",
      "P=Fractional ideal (4*i - 11) with norm 137\n",
      "P=Fractional ideal (10*i - 7) with norm 149\n",
      "P=Fractional ideal (-6*i - 11) with norm 157\n",
      "P=Fractional ideal (6*i - 11) with norm 157\n",
      "P=Fractional ideal (-2*i + 13) with norm 173\n",
      "P=Fractional ideal (2*i + 13) with norm 173\n",
      "P=Fractional ideal (-10*i - 9) with norm 181\n",
      "P=Fractional ideal (9*i + 10) with norm 181\n",
      "P=Fractional ideal (7*i + 12) with norm 193\n",
      "P=Fractional ideal (i + 14) with norm 197\n"
     ]
    }
   ],
   "source": [
    "_, T0, vlist = get_T0_mod3(K,S3,quartics)\n",
    "print(\"The test primes are\")\n",
    "for P in T0:\n",
    "    print(\"P={} with norm {}\".format(P,P.norm()))"
   ]
  },
  {
   "cell_type": "markdown",
   "metadata": {},
   "source": [
    "### Compute the $a_P$ for these primes from the elliptic curve:"
   ]
  },
  {
   "cell_type": "code",
   "execution_count": 27,
   "metadata": {},
   "outputs": [
    {
     "name": "stdout",
     "output_type": "stream",
     "text": [
      "The traces for these primes are [-2, -14, 2, 18, -2, -10, 14, -18, 6, -10, 18, -6, 6]\n",
      "Test vector = [1, 1, 1, 0, 1, 1, 1, 0, 0, 1, 0, 0, 0]\n"
     ]
    }
   ],
   "source": [
    "aplist = [E.reduction(P).trace_of_frobenius() for P in T0]\n",
    "v0 = [0 if ap%3==0 else 1 for ap in aplist]\n",
    "print(\"The traces for these primes are {}\".format(aplist))\n",
    "print(\"Test vector = {}\".format(v0))"
   ]
  },
  {
   "cell_type": "markdown",
   "metadata": {},
   "source": [
    "### Test whether the test vector is in the list of test vectors.  If it is then the representation is irreducible and we can get the associated quartic from the table:"
   ]
  },
  {
   "cell_type": "code",
   "execution_count": 28,
   "metadata": {},
   "outputs": [
    {
     "data": {
      "text/html": [
       "<html><script type=\"math/tex; mode=display\">\\newcommand{\\Bold}[1]{\\mathbf{#1}}\\mathrm{True}</script></html>"
      ],
      "text/plain": [
       "True"
      ]
     },
     "metadata": {},
     "output_type": "display_data"
    },
    {
     "name": "stdout",
     "output_type": "stream",
     "text": [
      "The representation is irreducible.\n",
      "The splitting field of the projective representation is defined by the quartic x^4 + (65184*i - 47046)*x^2 - 8*x - 1533324000*i - 508905987\n",
      "The projective image is S4\n"
     ]
    }
   ],
   "source": [
    "show(v0 in vlist)\n",
    "res = [i for i,vi in enumerate(vlist) if v0==vi]\n",
    "if res:\n",
    "    g3 = quartics[res[0]]\n",
    "    print(\"The representation is irreducible.\")\n",
    "    print(\"The splitting field of the projective representation is defined by the quartic {}\".format(g3))\n",
    "    group = 'S4' if g3 in S4quartics else 'D4' if g3 in D4quartics else 'C4'\n",
    "    print(\"The projective image is {}\".format(group))"
   ]
  },
  {
   "cell_type": "markdown",
   "metadata": {},
   "source": [
    "### Check that we have recovered the 3-division field of $E$:"
   ]
  },
  {
   "cell_type": "code",
   "execution_count": 29,
   "metadata": {},
   "outputs": [
    {
     "data": {
      "text/plain": [
       "True"
      ]
     },
     "execution_count": 29,
     "metadata": {},
     "output_type": "execute_result"
    }
   ],
   "source": [
    "K.extension(f3,'t3').is_isomorphic(K.extension(g3,'u3'))"
   ]
  },
  {
   "cell_type": "markdown",
   "metadata": {},
   "source": [
    "### Now we turn to the Bianchi modular form.  This requires running my C++ code (e.g. on Galois)"
   ]
  },
  {
   "cell_type": "code",
   "execution_count": 31,
   "metadata": {},
   "outputs": [
    {
     "name": "stdout",
     "output_type": "stream",
     "text": [
      "/usr/bin/sh: line 0: cd: /home/jec/bianchi-progs: No such file or directory\r\n"
     ]
    }
   ],
   "source": [
    "!cd /home/jec/bianchi-progs"
   ]
  },
  {
   "cell_type": "code",
   "execution_count": null,
   "metadata": {},
   "outputs": [],
   "source": []
  }
 ],
 "metadata": {
  "kernelspec": {
   "display_name": "SageMath 8.4",
   "language": "",
   "name": "sagemath"
  },
  "language_info": {
   "codemirror_mode": {
    "name": "ipython",
    "version": 2
   },
   "file_extension": ".py",
   "mimetype": "text/x-python",
   "name": "python",
   "nbconvert_exporter": "python",
   "pygments_lexer": "ipython2",
   "version": "2.7.15"
  }
 },
 "nbformat": 4,
 "nbformat_minor": 2
}
