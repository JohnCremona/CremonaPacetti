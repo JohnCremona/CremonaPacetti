{
 "cells": [
  {
   "cell_type": "markdown",
   "metadata": {},
   "source": [
    "# Example of mod 3 Galois representations over an imaginary quadratic field"
   ]
  },
  {
   "cell_type": "markdown",
   "metadata": {},
   "source": [
    "## This is an example where the $\\mod 2$ representation is reducible and a $3$-adic method should work better than $2$-adic Faltings-Serre-Livne"
   ]
  },
  {
   "cell_type": "markdown",
   "metadata": {},
   "source": [
    "### Define the number field:"
   ]
  },
  {
   "cell_type": "code",
   "execution_count": 1,
   "metadata": {},
   "outputs": [],
   "source": [
    "x = polygen(QQ)\n",
    "K.<i> = NumberField(x^2+1)"
   ]
  },
  {
   "cell_type": "markdown",
   "metadata": {},
   "source": [
    "### Define the elliptic curve and related quantities.  This curve has LMFDB label [2.0.4.1-1312.1-b4](http://www.lmfdb.org/EllipticCurve/2.0.4.1/1312.1/b/4)"
   ]
  },
  {
   "cell_type": "code",
   "execution_count": 2,
   "metadata": {},
   "outputs": [
    {
     "data": {
      "text/html": [
       "<html><script type=\"math/tex; mode=display\">\\newcommand{\\Bold}[1]{\\mathbf{#1}}y^2 + \\left(i + 1\\right) x y + \\left(i + 1\\right) y = x^{3} + \\left(i - 1\\right) x^{2} - 5 i x + 2 i </script></html>"
      ],
      "text/plain": [
       "Elliptic Curve defined by y^2 + (i+1)*x*y + (i+1)*y = x^3 + (i-1)*x^2 + (-5*i)*x + 2*i over Number Field in i with defining polynomial x^2 + 1"
      ]
     },
     "metadata": {},
     "output_type": "display_data"
    },
    {
     "data": {
      "text/html": [
       "<html><script type=\"math/tex; mode=display\">\\newcommand{\\Bold}[1]{\\mathbf{#1}}\\left[\\left(i + 1\\right), \\left(-5 i - 4\\right)\\right]</script></html>"
      ],
      "text/plain": [
       "[Fractional ideal (i + 1), Fractional ideal (-5*i - 4)]"
      ]
     },
     "metadata": {},
     "output_type": "display_data"
    },
    {
     "data": {
      "text/html": [
       "<html><script type=\"math/tex; mode=display\">\\newcommand{\\Bold}[1]{\\mathbf{#1}}\\left[\\left(i + 1\\right), \\left(-5 i - 4\\right), \\left(3\\right)\\right]</script></html>"
      ],
      "text/plain": [
       "[Fractional ideal (i + 1), Fractional ideal (-5*i - 4), Fractional ideal (3)]"
      ]
     },
     "metadata": {},
     "output_type": "display_data"
    },
    {
     "data": {
      "text/html": [
       "<html><script type=\"math/tex; mode=display\">\\newcommand{\\Bold}[1]{\\mathbf{#1}}3 x^{4} + \\left(6 i - 4\\right) x^{3} - 24 i x^{2} + 30 i x - 10 i + 1</script></html>"
      ],
      "text/plain": [
       "3*x^4 + (6*i - 4)*x^3 - 24*i*x^2 + 30*i*x - 10*i + 1"
      ]
     },
     "metadata": {},
     "output_type": "display_data"
    }
   ],
   "source": [
    "E = EllipticCurve([i + 1, i - 1, i + 1, -5*i, 2*i])\n",
    "show(E)\n",
    "S = E.conductor().prime_factors()\n",
    "show(S)\n",
    "S3 = S + K.primes_above(3)\n",
    "show(S3)\n",
    "f3 = E.division_polynomial(3)\n",
    "show(f3)"
   ]
  },
  {
   "cell_type": "markdown",
   "metadata": {},
   "source": [
    "### Read in the files of code"
   ]
  },
  {
   "cell_type": "code",
   "execution_count": 3,
   "metadata": {},
   "outputs": [
    {
     "name": "stdout",
     "output_type": "stream",
     "text": [
      "/home/jec/CremonaPacetti/code\n"
     ]
    }
   ],
   "source": [
    "%cd /home/jec/CremonaPacetti/code\n",
    "%runfile S4.py\n",
    "%runfile T0mod3.py\n",
    "%runfile T0T1T2.py"
   ]
  },
  {
   "cell_type": "markdown",
   "metadata": {},
   "source": [
    "### Compute a set of test primes for the determinant character and use it to obtain the discriminant $\\Delta$ such that $K(\\sqrt{\\Delta})$ is the fixed field of the kernel of the determinant character.  We know that this is $-3$ (modulo squares) for an elliptic curve."
   ]
  },
  {
   "cell_type": "code",
   "execution_count": 4,
   "metadata": {},
   "outputs": [
    {
     "name": "stdout",
     "output_type": "stream",
     "text": [
      "T1:\n",
      "Fractional ideal (-i - 2), norm 5\n",
      "Fractional ideal (2*i + 1), norm 5\n",
      "Fractional ideal (-3*i - 2), norm 13\n",
      "Fractional ideal (2*i + 3), norm 13\n"
     ]
    },
    {
     "data": {
      "text/plain": [
       "3"
      ]
     },
     "execution_count": 4,
     "metadata": {},
     "output_type": "execute_result"
    }
   ],
   "source": [
    "T1, A, decoder = get_T1(K,S3)\n",
    "print(\"T1:\")\n",
    "for P in T1:\n",
    "    print(\"{}, norm {}\".format(P,P.norm()))\n",
    "\n",
    "BB = BlackBox_from_elliptic_curve(E)\n",
    "decoder([0 if BB_det(BB)(P)%3==1 else 1 for P in T1])"
   ]
  },
  {
   "cell_type": "markdown",
   "metadata": {},
   "source": [
    "### That's equivalent to $-3$ mod squares since $-1$ is a square.  We should get the same using the norms of the primes, since we know that for both the elliptic curve and the Bianchi newform (of weight $2$) the determinant of the image of the Frobenius at $P$ is $N(P)\\pmod3$:"
   ]
  },
  {
   "cell_type": "code",
   "execution_count": 5,
   "metadata": {},
   "outputs": [
    {
     "data": {
      "text/plain": [
       "3"
      ]
     },
     "execution_count": 5,
     "metadata": {},
     "output_type": "execute_result"
    }
   ],
   "source": [
    "decoder([0 if P.norm()%3==1 else 1 for P in T1])"
   ]
  },
  {
   "cell_type": "markdown",
   "metadata": {},
   "source": [
    "### Define the quadratic extension of K cut out by the determinant character: we know (and have just verified) that this is the $3$rd cyclotomic character:"
   ]
  },
  {
   "cell_type": "code",
   "execution_count": 6,
   "metadata": {},
   "outputs": [],
   "source": [
    "xK = polygen(K)\n",
    "M = K.extension(xK**2+3, 'r3')"
   ]
  },
  {
   "cell_type": "markdown",
   "metadata": {},
   "source": [
    "### Find the irreducible quartics defining extensions of $K$ unramified outside $S3$ and containing $M$. Instead of finding a single list we find 3 lists, one for each Galois group, so that we'll know later which group we have:"
   ]
  },
  {
   "cell_type": "code",
   "execution_count": 7,
   "metadata": {},
   "outputs": [
    {
     "name": "stdout",
     "output_type": "stream",
     "text": [
      "There are 87 candidate quartics, of which 79 are S4, 0 are D4 and 8 are C4\n"
     ]
    }
   ],
   "source": [
    "S4quartics = S4_extensions_with_quadratic(K,S3,M)\n",
    "D4quartics = D4_extensions_with_quadratic(K,S3,M)\n",
    "C4quartics = C4_extensions_with_quadratic(K,S3,M)\n",
    "quartics = S4quartics+D4quartics+C4quartics\n",
    "print(\"There are {} candidate quartics, of which {} are S4, {} are D4 and {} are C4\".format(len(quartics),len(S4quartics), len(D4quartics),len(C4quartics)))"
   ]
  },
  {
   "cell_type": "markdown",
   "metadata": {},
   "source": [
    "### Compute $T_0$ and the associated $0$-$1$ vectors:"
   ]
  },
  {
   "cell_type": "code",
   "execution_count": 8,
   "metadata": {},
   "outputs": [
    {
     "name": "stdout",
     "output_type": "stream",
     "text": [
      "The test primes are\n",
      "P=Fractional ideal (4*i + 9) with norm 97\n",
      "P=Fractional ideal (-8*i - 7) with norm 113\n",
      "P=Fractional ideal (7*i + 8) with norm 113\n",
      "P=Fractional ideal (4*i - 11) with norm 137\n",
      "P=Fractional ideal (10*i - 7) with norm 149\n",
      "P=Fractional ideal (-6*i - 11) with norm 157\n",
      "P=Fractional ideal (6*i - 11) with norm 157\n",
      "P=Fractional ideal (-2*i + 13) with norm 173\n",
      "P=Fractional ideal (2*i + 13) with norm 173\n",
      "P=Fractional ideal (-10*i - 9) with norm 181\n",
      "P=Fractional ideal (9*i + 10) with norm 181\n",
      "P=Fractional ideal (7*i + 12) with norm 193\n",
      "P=Fractional ideal (i + 14) with norm 197\n"
     ]
    }
   ],
   "source": [
    "_, T0, vlist = get_T0_mod3(K,S3,quartics)\n",
    "print(\"The test primes are\")\n",
    "for P in T0:\n",
    "    print(\"P={} with norm {}\".format(P,P.norm()))"
   ]
  },
  {
   "cell_type": "markdown",
   "metadata": {},
   "source": [
    "### Compute the $a_P$ for these primes from the elliptic curve:"
   ]
  },
  {
   "cell_type": "code",
   "execution_count": 9,
   "metadata": {},
   "outputs": [
    {
     "name": "stdout",
     "output_type": "stream",
     "text": [
      "The traces for these primes are [-2, -14, 2, 18, -2, -10, 14, -18, 6, -10, 18, -6, 6]\n",
      "Test vector = [1, 1, 1, 0, 1, 1, 1, 0, 0, 1, 0, 0, 0]\n"
     ]
    }
   ],
   "source": [
    "aplist = [BB_trace(BB)(P) for P in T0]\n",
    "v0 = [0 if ap%3==0 else 1 for ap in aplist]\n",
    "print(\"The traces for these primes are {}\".format(aplist))\n",
    "print(\"Test vector = {}\".format(v0))"
   ]
  },
  {
   "cell_type": "markdown",
   "metadata": {},
   "source": [
    "### Test whether the test vector is in the list of test vectors.  If it is then the representation is irreducible and we can get the associated quartic from the table:"
   ]
  },
  {
   "cell_type": "code",
   "execution_count": 10,
   "metadata": {},
   "outputs": [
    {
     "name": "stdout",
     "output_type": "stream",
     "text": [
      "The mod 3 representation is irreducible.\n",
      "The splitting field of the projective representation is defined by the quartic x^4 + (65184*i - 47046)*x^2 - 8*x - 1533324000*i - 508905987\n",
      "The projective image is isomorphic to S4\n"
     ]
    }
   ],
   "source": [
    "res = [i for i,vi in enumerate(vlist) if v0==vi]\n",
    "if res:\n",
    "    g3 = quartics[res[0]]\n",
    "    print(\"The mod 3 representation is irreducible.\")\n",
    "    print(\"The splitting field of the projective representation is defined by the quartic {}\".format(g3))\n",
    "    group = 'S4' if g3 in S4quartics else 'D4' if g3 in D4quartics else 'C4'\n",
    "    print(\"The projective image is isomorphic to {}\".format(group))\n",
    "else:\n",
    "    print(\"The representation is reducible\")"
   ]
  },
  {
   "cell_type": "markdown",
   "metadata": {},
   "source": [
    "### Check that we have recovered the 3-division field of $E$:"
   ]
  },
  {
   "cell_type": "code",
   "execution_count": 11,
   "metadata": {},
   "outputs": [
    {
     "data": {
      "text/plain": [
       "True"
      ]
     },
     "execution_count": 11,
     "metadata": {},
     "output_type": "execute_result"
    }
   ],
   "source": [
    "K.extension(f3,'t3').is_isomorphic(K.extension(g3,'u3'))"
   ]
  },
  {
   "cell_type": "markdown",
   "metadata": {},
   "source": [
    "### Now we turn to the Bianchi modular form.  This requires running my C++ code (e.g. on Galois) to get the Hecke eigenvalues $a_P$ for $P$ dividing $\\\\{97,113,\\dots,197\\\\}$:"
   ]
  },
  {
   "cell_type": "code",
   "execution_count": 12,
   "metadata": {},
   "outputs": [
    {
     "name": "stdout",
     "output_type": "stream",
     "text": [
      "/home/jec/bianchi-progs\n",
      "Program moreap1: for given field and level, assumes that the newforms file exists, and computes more individual Hecke eigenvalues.\r\n",
      "---------------\r\n",
      "\r\n",
      "Enter field: Verbose? Enter level: \r\n",
      ">>>> Level 1312.36.4 = (36+4i), norm = 1312 <<<<\r\n",
      "\r\n",
      "2 newform(s) at level 1312.36.4 = (36+4i):\r\n",
      "1:\tbasis = [];\taqlist = [ -1 -1 ];\taplist = [ 0 0 -2 -4 -6 2 -6 -4 10 0 -6 8 1 6 6 6 0 2 -10 -8 0 -8 -2 2 -16 2 -14 -2 8 -6 -14 -16 14 -2 -10 6 10 10 -14 18 -14 0 -16 22 2 18 -10 -20 2 0 14 10 18 -2 18 -18 -12 -30 18 12 0 -26 -10 -26 -6 -18 30 -10 16 22 22 -26 8 -14 -2 30 14 -18 -28 24 -12 -14 -2 -2 22 -26 -26 -6 -18 -18 -34 6 -4 2 -14 -42 22 2 -22 20 ]\r\n",
      "Sign of F.E. = -1\r\n",
      "Twisting prime lambda = 4+i, factor = 8\r\n",
      "L/P ratio    = 0, cuspidal factor = 1\r\n",
      "Integration matrix = [-9-18i,1;8-72i,3+2i], factor   = -1\r\n",
      "2:\tbasis = [];\taqlist = [ 1 -1 ];\taplist = [ 0 2 -2 -2 6 -2 2 6 -2 10 6 2 1 -6 -6 -10 2 -2 14 -10 6 6 2 -14 -2 -18 -10 -2 10 -14 2 -10 -6 18 -2 -10 -10 14 -18 6 -10 18 -2 -6 6 -2 -10 10 -22 6 26 -14 2 -14 22 30 26 -26 -22 14 -30 6 10 -30 22 6 -22 -22 10 -10 26 -6 22 14 22 6 -26 30 -14 -34 22 10 -14 22 -2 26 26 -30 -6 -6 2 6 -30 -42 -34 -6 2 -14 14 18 ]\r\n",
      "Sign of F.E. = 1\r\n",
      "Twisting prime lambda = 1, factor = -4\r\n",
      "L/P ratio    = 1/4, cuspidal factor = 1\r\n",
      "Integration matrix = [6+15i,1;-4+36i,2+i], factor   = -1\r\n",
      "Making homspace and bases...done.\r\n",
      "Enter a rational prime p (0 to finish): \r\n",
      "ap for 4+9i: [ 2 -14 ]\r\n",
      "ap for 9+4i: [ -16 -2 ]\r\n",
      "Enter a rational prime p (0 to finish): \r\n",
      "ap for 7+8i: [ -6 -14 ]\r\n",
      "ap for 8+7i: [ -14 2 ]\r\n",
      "Enter a rational prime p (0 to finish): \r\n",
      "ap for 11+4i: [ 14 -6 ]\r\n",
      "ap for 4+11i: [ -2 18 ]\r\n",
      "Enter a rational prime p (0 to finish): \r\n",
      "ap for 10+7i: [ -10 -2 ]\r\n",
      "ap for 7+10i: [ 6 -10 ]\r\n",
      "Enter a rational prime p (0 to finish): \r\n",
      "ap for 11+6i: [ 10 -10 ]\r\n",
      "ap for 6+11i: [ 10 14 ]\r\n",
      "Enter a rational prime p (0 to finish): \r\n",
      "ap for 2+13i: [ -14 -18 ]\r\n",
      "ap for 13+2i: [ 18 6 ]\r\n",
      "Enter a rational prime p (0 to finish): \r\n",
      "ap for 9+10i: [ -14 -10 ]\r\n",
      "ap for 10+9i: [ 0 18 ]\r\n",
      "Enter a rational prime p (0 to finish): \r\n",
      "ap for 7+12i: [ -16 -2 ]\r\n",
      "ap for 12+7i: [ 22 -6 ]\r\n",
      "Enter a rational prime p (0 to finish): \r\n",
      "ap for 14+i: [ 2 6 ]\r\n",
      "ap for 1+14i: [ 18 -2 ]\r\n",
      "Enter a rational prime p (0 to finish): \r\n",
      "Enter level: \r\n"
     ]
    }
   ],
   "source": [
    "%cd /home/jec/bianchi-progs\n",
    "!echo \"1 0 36 4 97 113 137 149 157 173 181 193 197 0 0 0\" | /home/jec/bianchi-progs/moreap1"
   ]
  },
  {
   "cell_type": "markdown",
   "metadata": {},
   "source": [
    "### From the above, taking the second eigenvalue of each pair (for form b, not form a) one can visually see that they agree with these:"
   ]
  },
  {
   "cell_type": "code",
   "execution_count": 13,
   "metadata": {},
   "outputs": [
    {
     "data": {
      "text/plain": [
       "[(Fractional ideal (4*i + 9), -2),\n",
       " (Fractional ideal (-8*i - 7), -14),\n",
       " (Fractional ideal (7*i + 8), 2),\n",
       " (Fractional ideal (4*i - 11), 18),\n",
       " (Fractional ideal (10*i - 7), -2),\n",
       " (Fractional ideal (-6*i - 11), -10),\n",
       " (Fractional ideal (6*i - 11), 14),\n",
       " (Fractional ideal (-2*i + 13), -18),\n",
       " (Fractional ideal (2*i + 13), 6),\n",
       " (Fractional ideal (-10*i - 9), -10),\n",
       " (Fractional ideal (9*i + 10), 18),\n",
       " (Fractional ideal (7*i + 12), -6),\n",
       " (Fractional ideal (i + 14), 6)]"
      ]
     },
     "execution_count": 13,
     "metadata": {},
     "output_type": "execute_result"
    }
   ],
   "source": [
    "zip(T0,aplist)"
   ]
  },
  {
   "cell_type": "markdown",
   "metadata": {},
   "source": [
    "### That means, given that we know that this Bianchi newform has level equal to the conductor of $E$, namely $(36+4i)$, that the projective $\\mod 3$ representation attached to the Bainchi newform also has full image with the same splitting field as for $E$."
   ]
  },
  {
   "cell_type": "code",
   "execution_count": null,
   "metadata": {},
   "outputs": [],
   "source": []
  }
 ],
 "metadata": {
  "kernelspec": {
   "display_name": "SageMath 8.4",
   "language": "",
   "name": "sagemath"
  },
  "language_info": {
   "codemirror_mode": {
    "name": "ipython",
    "version": 2
   },
   "file_extension": ".py",
   "mimetype": "text/x-python",
   "name": "python",
   "nbconvert_exporter": "python",
   "pygments_lexer": "ipython2",
   "version": "2.7.15"
  }
 },
 "nbformat": 4,
 "nbformat_minor": 2
}
